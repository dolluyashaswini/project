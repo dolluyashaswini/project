{
 "cells": [
  {
   "cell_type": "code",
   "execution_count": 24,
   "metadata": {},
   "outputs": [],
   "source": [
    "import os\n",
    "import numpy as np\n",
    "import matplotlib.pyplot as plt\n",
    "import torch\n",
    "from torch import nn\n",
    "from torch.autograd import Variable\n",
    "from torch.utils.data import DataLoader\n",
    "from torchvision import transforms\n",
    "from torchvision.datasets import MNIST\n",
    "from torchvision.utils import save_image\n",
    "from torchvision.utils import make_grid\n",
    "from tqdm.notebook import tqdm"
   ]
  },
  {
   "cell_type": "code",
   "execution_count": 25,
   "metadata": {},
   "outputs": [],
   "source": [
    "def add_noise(img):\n",
    "    noise = torch.randn(img.size())*0.2\n",
    "    noisy_img = img +noise\n",
    "    return noisy_img"
   ]
  },
  {
   "cell_type": "code",
   "execution_count": 26,
   "metadata": {},
   "outputs": [],
   "source": [
    "img_transform = transforms.Compose([\n",
    "    transforms.ToTensor(),\n",
    "    transforms.Normalize(mean=0, std=1)\n",
    "])"
   ]
  },
  {
   "cell_type": "code",
   "execution_count": 27,
   "metadata": {},
   "outputs": [],
   "source": [
    "trainset = MNIST('./data',train=True,transform=img_transform,download=True)\n",
    "testset = MNIST('./data',train=False,transform=img_transform,download=True)\n",
    "trainloader = DataLoader(trainset, batch_size=32, shuffle=True)\n",
    "testloader = DataLoader(testset, batch_size=128, shuffle=False)"
   ]
  },
  {
   "cell_type": "code",
   "execution_count": 28,
   "metadata": {},
   "outputs": [],
   "source": [
    "class autoencoder(nn.Module):\n",
    "    def __init__(self):\n",
    "        super(autoencoder, self).__init__()\n",
    "        self.encoder=nn.Sequential(\n",
    "                  nn.Linear(28*28,256),\n",
    "                  nn.ReLU(True),\n",
    "                  nn.Linear(256,128),\n",
    "                  nn.ReLU(True),\n",
    "                  nn.Linear(128,64),\n",
    "                  nn.ReLU(True)\n",
    "            \n",
    "        )\n",
    "        \n",
    "        self.decoder=nn.Sequential(\n",
    "            nn.Linear(64,128),\n",
    "            nn.ReLU(True),\n",
    "            nn.Linear(128,256),\n",
    "            nn.ReLU(True),\n",
    "            nn.Linear(256,28*28),\n",
    "            nn.Sigmoid(),\n",
    "        )\n",
    "        \n",
    "    def forward(self, x):\n",
    "        x = self.encoder(x)\n",
    "        x = self.decoder(x)\n",
    "        return x\n",
    "\n"
   ]
  },
  {
   "cell_type": "code",
   "execution_count": 6,
   "metadata": {},
   "outputs": [],
   "source": [
    "def training(model,optimizer,criterion,epochs):\n",
    "    hist={\"loss\":[],\"MSE\":[]}\n",
    "    for epoch in tqdm(range(1,epochs+1),desc=\"Training\",total=epochs):\n",
    "        losses=[]\n",
    "        mselosses=[]\n",
    "        for batch in trainloader:\n",
    "            img, _ = batch\n",
    "            img = img.view(img.size(0), -1)\n",
    "            noisy_img = add_noise(img)\n",
    "            noisy_img = Variable(noisy_img)\n",
    "            img = Variable(img)\n",
    "        # ===================forward=====================\n",
    "            output = model(noisy_img)\n",
    "            loss = criterion(output, img)\n",
    "            losses.append(loss.item())\n",
    "            MSE_loss = nn.MSELoss()(output, img)\n",
    "            mselosses.append(MSE_loss.item())\n",
    "        # ===================backward====================\n",
    "            optimizer.zero_grad()\n",
    "            loss.backward()\n",
    "            optimizer.step()\n",
    "        # ===================log========================\n",
    "        hist[\"loss\"].append(np.array(losses).mean())\n",
    "        hist[\"MSE\"].append(np.array(mselosses).mean())\n",
    "    return hist"
   ]
  },
  {
   "cell_type": "code",
   "execution_count": 7,
   "metadata": {},
   "outputs": [
    {
     "data": {
      "application/vnd.jupyter.widget-view+json": {
       "model_id": "ca190649a8ec42018d94bb6f5c6dbad1",
       "version_major": 2,
       "version_minor": 0
      },
      "text/plain": [
       "HBox(children=(FloatProgress(value=0.0, description='Training', max=50.0, style=ProgressStyle(description_widt…"
      ]
     },
     "metadata": {},
     "output_type": "display_data"
    },
    {
     "name": "stdout",
     "output_type": "stream",
     "text": [
      "\n"
     ]
    }
   ],
   "source": [
    "model = autoencoder()\n",
    "criterion = nn.BCELoss()\n",
    "optimizer = torch.optim.Adam(\n",
    "    model.parameters(), lr=0.001, weight_decay=1e-5)\n",
    "epochs=50\n",
    "hist=training(model,optimizer,criterion,epochs)"
   ]
  },
  {
   "cell_type": "code",
   "execution_count": 8,
   "metadata": {},
   "outputs": [
    {
     "data": {
      "text/plain": [
       "<matplotlib.legend.Legend at 0x1b6f1761708>"
      ]
     },
     "execution_count": 8,
     "metadata": {},
     "output_type": "execute_result"
    },
    {
     "data": {
      "image/png": "[encoded data removed]",
      "text/plain": [
       "<Figure size 1008x504 with 2 Axes>"
      ]
     },
     "metadata": {
      "needs_background": "light"
     },
     "output_type": "display_data"
    }
   ],
   "source": [
    "fig,ax=plt.subplots(nrows=1,ncols=2,figsize=(14,7))\n",
    "ax[0].plot(range(1,epochs+1),hist[\"loss\"],label=\"BCE Loss\")\n",
    "ax[0].grid()\n",
    "ax[0].set_xlabel(\"Epochs\")\n",
    "ax[0].set_ylabel(\"Loss value\")\n",
    "ax[0].set_title(\"Epochs vs BCELoss\")\n",
    "ax[0].legend()\n",
    "ax[1].plot(range(1,epochs+1),hist[\"MSE\"],label=\"MSE Loss\")\n",
    "ax[1].grid()\n",
    "ax[1].set_xlabel(\"Epochs\")\n",
    "ax[1].set_ylabel(\"loss\")\n",
    "ax[1].legend()"
   ]
  },
  {
   "cell_type": "code",
   "execution_count": 29,
   "metadata": {},
   "outputs": [],
   "source": [
    "torch.save(model.state_dict(),\"MNISTdenoisingweights.pth\")"
   ]
  },
  {
   "cell_type": "code",
   "execution_count": 30,
   "metadata": {},
   "outputs": [
    {
     "data": {
      "text/plain": [
       "<All keys matched successfully>"
      ]
     },
     "execution_count": 30,
     "metadata": {},
     "output_type": "execute_result"
    }
   ],
   "source": [
    "model=autoencoder()\n",
    "model.load_state_dict(torch.load(\"MNISTdenoisingweights.pth\"))"
   ]
  },
  {
   "cell_type": "code",
   "execution_count": 31,
   "metadata": {},
   "outputs": [],
   "source": [
    "def to_img(x):\n",
    "    x = x.view(x.size(0), 1, 28, 28)\n",
    "    return x"
   ]
  },
  {
   "cell_type": "code",
   "execution_count": 32,
   "metadata": {},
   "outputs": [],
   "source": [
    "for i,data in enumerate(testloader):\n",
    "    if(i==1):\n",
    "        break;\n",
    "    img,_=data\n",
    "    img=img.view(img.size(0),-1)\n",
    "    noisy_img=add_noise(img)\n",
    "    img=Variable(img)\n",
    "    noisy_img=Variable(noisy_img)\n",
    "    output=model(noisy_img)\n",
    "    original= to_img(img.cpu().data)\n",
    "    clear= to_img(output.cpu().data)\n",
    "    noised= to_img(noisy_img.cpu().data)\n",
    "    save_image(original, './23_img/original.png')\n",
    "    save_image(noised, './23_img/noised.png')\n",
    "    save_image(clear, './23_img/clear.png')"
   ]
  },
  {
   "cell_type": "code",
   "execution_count": null,
   "metadata": {},
   "outputs": [],
   "source": []
  }
 ],
 "metadata": {
  "kernelspec": {
   "display_name": "Python 3",
   "language": "python",
   "name": "python3"
  },
  "language_info": {
   "codemirror_mode": {
    "name": "ipython",
    "version": 3
   },
   "file_extension": ".py",
   "mimetype": "text/x-python",
   "name": "python",
   "nbconvert_exporter": "python",
   "pygments_lexer": "ipython3",
   "version": "3.7.6"
  },
  "widgets": {
   "application/vnd.jupyter.widget-state+json": {
    "state": {
     "00b56177aeb14a21a46e2b7bda3e6c24": {
      "model_module": "@jupyter-widgets/base",
      "model_module_version": "1.2.0",
      "model_name": "LayoutModel",
      "state": {}
     },
     "0c867a1e75844beebffd8cda945ddfc6": {
      "model_module": "@jupyter-widgets/base",
      "model_module_version": "1.2.0",
      "model_name": "LayoutModel",
      "state": {}
     },
     "17aae5e85f74446b848af432d1674560": {
      "model_module": "@jupyter-widgets/controls",
      "model_module_version": "1.5.0",
      "model_name": "ProgressStyleModel",
      "state": {
       "description_width": "initial"
      }
     },
     "1c82e339d5904a28ac4831dc4f216242": {
      "model_module": "@jupyter-widgets/base",
      "model_module_version": "1.2.0",
      "model_name": "LayoutModel",
      "state": {}
     },
     "2260e4001e62411aa82e135621dfaf1d": {
      "model_module": "@jupyter-widgets/controls",
      "model_module_version": "1.5.0",
      "model_name": "FloatProgressModel",
      "state": {
       "bar_style": "success",
       "description": "Training: 100%",
       "layout": "IPY_MODEL_e05cdf282f794cf9b50130859c80ba41",
       "max": 50,
       "style": "IPY_MODEL_9eaf1c4308ea43d9b38e5220d62a586f",
       "value": 50
      }
     },
     "2bcc192147bd4804b56af5985aaa7b27": {
      "model_module": "@jupyter-widgets/controls",
      "model_module_version": "1.5.0",
      "model_name": "FloatProgressModel",
      "state": {
       "bar_style": "success",
       "description": "Training: 100%",
       "layout": "IPY_MODEL_e0f2df4b4fa341b0871b4442f92bd50f",
       "max": 50,
       "style": "IPY_MODEL_17aae5e85f74446b848af432d1674560",
       "value": 50
      }
     },
     "40a52e6546044f7a902c8d3cbaf0db0e": {
      "model_module": "@jupyter-widgets/controls",
      "model_module_version": "1.5.0",
      "model_name": "HTMLModel",
      "state": {
       "layout": "IPY_MODEL_c77e405956c8438ba4d9a745b81eb080",
       "style": "IPY_MODEL_ef74a888fd894e9c8a6840ed2af365b0",
       "value": " 50/50 [1:17:29&lt;00:00, 92.99s/it]"
      }
     },
     "44f22c5c51fd410ba246d691692ed8f0": {
      "model_module": "@jupyter-widgets/controls",
      "model_module_version": "1.5.0",
      "model_name": "DescriptionStyleModel",
      "state": {
       "description_width": ""
      }
     },
     "4749a796a0884dcd923d50c6d36bbeef": {
      "model_module": "@jupyter-widgets/controls",
      "model_module_version": "1.5.0",
      "model_name": "HBoxModel",
      "state": {
       "children": [
        "IPY_MODEL_2bcc192147bd4804b56af5985aaa7b27",
        "IPY_MODEL_95b5881b29654afda11ef29742f61c8c"
       ],
       "layout": "IPY_MODEL_8144934caed14576adbe9bfbd292ba35"
      }
     },
     "49ae42254d7f4e65af4c870ab09fc6e5": {
      "model_module": "@jupyter-widgets/base",
      "model_module_version": "1.2.0",
      "model_name": "LayoutModel",
      "state": {}
     },
     "4c41edc10043423bb167a2a4b89bbe49": {
      "model_module": "@jupyter-widgets/controls",
      "model_module_version": "1.5.0",
      "model_name": "HBoxModel",
      "state": {
       "children": [
        "IPY_MODEL_df4d79a69b864765bcda3369ee65c695",
        "IPY_MODEL_ac0fe94f1f6f43f88935b3001bec39ba"
       ],
       "layout": "IPY_MODEL_49ae42254d7f4e65af4c870ab09fc6e5"
      }
     },
     "4f5840cf0f864e05aa1600d67d8a466d": {
      "model_module": "@jupyter-widgets/base",
      "model_module_version": "1.2.0",
      "model_name": "LayoutModel",
      "state": {}
     },
     "59d4676f16914b4ba3084361da65c9de": {
      "model_module": "@jupyter-widgets/controls",
      "model_module_version": "1.5.0",
      "model_name": "HBoxModel",
      "state": {
       "children": [
        "IPY_MODEL_2260e4001e62411aa82e135621dfaf1d",
        "IPY_MODEL_a4c6ca0dc6a74fa591259bee71f4887c"
       ],
       "layout": "IPY_MODEL_1c82e339d5904a28ac4831dc4f216242"
      }
     },
     "71c330d91a7a45b3b32a587f66bcda51": {
      "model_module": "@jupyter-widgets/controls",
      "model_module_version": "1.5.0",
      "model_name": "ProgressStyleModel",
      "state": {
       "description_width": "initial"
      }
     },
     "7b26beb341004286b8d6c1a68d629bda": {
      "model_module": "@jupyter-widgets/controls",
      "model_module_version": "1.5.0",
      "model_name": "DescriptionStyleModel",
      "state": {
       "description_width": ""
      }
     },
     "8144934caed14576adbe9bfbd292ba35": {
      "model_module": "@jupyter-widgets/base",
      "model_module_version": "1.2.0",
      "model_name": "LayoutModel",
      "state": {}
     },
     "8e9909151931488c8267838d48ca7a09": {
      "model_module": "@jupyter-widgets/base",
      "model_module_version": "1.2.0",
      "model_name": "LayoutModel",
      "state": {}
     },
     "95b5881b29654afda11ef29742f61c8c": {
      "model_module": "@jupyter-widgets/controls",
      "model_module_version": "1.5.0",
      "model_name": "HTMLModel",
      "state": {
       "layout": "IPY_MODEL_4f5840cf0f864e05aa1600d67d8a466d",
       "style": "IPY_MODEL_44f22c5c51fd410ba246d691692ed8f0",
       "value": " 50/50 [1:17:21&lt;00:00, 92.82s/it]"
      }
     },
     "9eaf1c4308ea43d9b38e5220d62a586f": {
      "model_module": "@jupyter-widgets/controls",
      "model_module_version": "1.5.0",
      "model_name": "ProgressStyleModel",
      "state": {
       "description_width": "initial"
      }
     },
     "a070070be52943e98f1cafbff22f79a7": {
      "model_module": "@jupyter-widgets/controls",
      "model_module_version": "1.5.0",
      "model_name": "ProgressStyleModel",
      "state": {
       "description_width": "initial"
      }
     },
     "a4c6ca0dc6a74fa591259bee71f4887c": {
      "model_module": "@jupyter-widgets/controls",
      "model_module_version": "1.5.0",
      "model_name": "HTMLModel",
      "state": {
       "layout": "IPY_MODEL_f678fc395d374b21856d7d3831c5e2dd",
       "style": "IPY_MODEL_ff342612d797497182ff2caa9639be8b",
       "value": " 50/50 [1:27:41&lt;00:00, 105.23s/it]"
      }
     },
     "a65658ea42ff402ca958f1034d798f55": {
      "model_module": "@jupyter-widgets/base",
      "model_module_version": "1.2.0",
      "model_name": "LayoutModel",
      "state": {}
     },
     "ac0fe94f1f6f43f88935b3001bec39ba": {
      "model_module": "@jupyter-widgets/controls",
      "model_module_version": "1.5.0",
      "model_name": "HTMLModel",
      "state": {
       "layout": "IPY_MODEL_0c867a1e75844beebffd8cda945ddfc6",
       "style": "IPY_MODEL_7b26beb341004286b8d6c1a68d629bda",
       "value": " 50/50 [1:45:59&lt;00:00, 127.19s/it]"
      }
     },
     "c77e405956c8438ba4d9a745b81eb080": {
      "model_module": "@jupyter-widgets/base",
      "model_module_version": "1.2.0",
      "model_name": "LayoutModel",
      "state": {}
     },
     "ca190649a8ec42018d94bb6f5c6dbad1": {
      "model_module": "@jupyter-widgets/controls",
      "model_module_version": "1.5.0",
      "model_name": "HBoxModel",
      "state": {
       "children": [
        "IPY_MODEL_e1ccae4d174e40b1819e0d737d9d5aa0",
        "IPY_MODEL_40a52e6546044f7a902c8d3cbaf0db0e"
       ],
       "layout": "IPY_MODEL_8e9909151931488c8267838d48ca7a09"
      }
     },
     "df4d79a69b864765bcda3369ee65c695": {
      "model_module": "@jupyter-widgets/controls",
      "model_module_version": "1.5.0",
      "model_name": "FloatProgressModel",
      "state": {
       "bar_style": "success",
       "description": "Training: 100%",
       "layout": "IPY_MODEL_00b56177aeb14a21a46e2b7bda3e6c24",
       "max": 50,
       "style": "IPY_MODEL_a070070be52943e98f1cafbff22f79a7",
       "value": 50
      }
     },
     "e05cdf282f794cf9b50130859c80ba41": {
      "model_module": "@jupyter-widgets/base",
      "model_module_version": "1.2.0",
      "model_name": "LayoutModel",
      "state": {}
     },
     "e0f2df4b4fa341b0871b4442f92bd50f": {
      "model_module": "@jupyter-widgets/base",
      "model_module_version": "1.2.0",
      "model_name": "LayoutModel",
      "state": {}
     },
     "e1ccae4d174e40b1819e0d737d9d5aa0": {
      "model_module": "@jupyter-widgets/controls",
      "model_module_version": "1.5.0",
      "model_name": "FloatProgressModel",
      "state": {
       "bar_style": "success",
       "description": "Training: 100%",
       "layout": "IPY_MODEL_a65658ea42ff402ca958f1034d798f55",
       "max": 50,
       "style": "IPY_MODEL_71c330d91a7a45b3b32a587f66bcda51",
       "value": 50
      }
     },
     "ef74a888fd894e9c8a6840ed2af365b0": {
      "model_module": "@jupyter-widgets/controls",
      "model_module_version": "1.5.0",
      "model_name": "DescriptionStyleModel",
      "state": {
       "description_width": ""
      }
     },
     "f678fc395d374b21856d7d3831c5e2dd": {
      "model_module": "@jupyter-widgets/base",
      "model_module_version": "1.2.0",
      "model_name": "LayoutModel",
      "state": {}
     },
     "ff342612d797497182ff2caa9639be8b": {
      "model_module": "@jupyter-widgets/controls",
      "model_module_version": "1.5.0",
      "model_name": "DescriptionStyleModel",
      "state": {
       "description_width": ""
      }
     }
    },
    "version_major": 2,
    "version_minor": 0
   }
  }
 },
 "nbformat": 4,
 "nbformat_minor": 4
}
